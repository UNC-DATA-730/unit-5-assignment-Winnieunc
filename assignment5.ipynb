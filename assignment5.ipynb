{
 "cells": [
  {
   "cell_type": "markdown",
   "id": "41e4de36-87e9-4aa2-8696-88c99f5e811d",
   "metadata": {},
   "source": [
    "Complete the exercises below For **Assignment #5**."
   ]
  },
  {
   "cell_type": "markdown",
   "id": "7ecc396d-30c7-4b86-a12b-a99aae6a130c",
   "metadata": {},
   "source": [
    "In this exercise, we are building a logistic regression classification model. We'll work with the [Pima Indians Diabetes Database](https://www.kaggle.com/datasets/uciml/pima-indians-diabetes-database).  "
   ]
  },
  {
   "cell_type": "markdown",
   "id": "846aa654-bf5d-4908-ba73-6cd61dd79493",
   "metadata": {},
   "source": [
    "Load the `tidymodels` library. "
   ]
  },
  {
   "cell_type": "code",
   "execution_count": 1,
   "id": "047c6e53-68f8-466b-ae3c-1bc19e288f27",
   "metadata": {
    "tags": []
   },
   "outputs": [
    {
     "name": "stderr",
     "output_type": "stream",
     "text": [
      "Warning message:\n",
      "“Failed to locate timezone database”\n",
      "── \u001b[1mAttaching packages\u001b[22m ────────────────────────────────────── tidymodels 1.1.1 ──\n",
      "\n",
      "\u001b[32m✔\u001b[39m \u001b[34mbroom       \u001b[39m 1.0.5     \u001b[32m✔\u001b[39m \u001b[34mrecipes     \u001b[39m 1.0.9\n",
      "\u001b[32m✔\u001b[39m \u001b[34mdials       \u001b[39m 1.2.0     \u001b[32m✔\u001b[39m \u001b[34mrsample     \u001b[39m 1.2.0\n",
      "\u001b[32m✔\u001b[39m \u001b[34mdplyr       \u001b[39m 1.1.4     \u001b[32m✔\u001b[39m \u001b[34mtibble      \u001b[39m 3.2.1\n",
      "\u001b[32m✔\u001b[39m \u001b[34mggplot2     \u001b[39m 3.4.4     \u001b[32m✔\u001b[39m \u001b[34mtidyr       \u001b[39m 1.3.1\n",
      "\u001b[32m✔\u001b[39m \u001b[34minfer       \u001b[39m 1.0.6     \u001b[32m✔\u001b[39m \u001b[34mtune        \u001b[39m 1.1.2\n",
      "\u001b[32m✔\u001b[39m \u001b[34mmodeldata   \u001b[39m 1.3.0     \u001b[32m✔\u001b[39m \u001b[34mworkflows   \u001b[39m 1.1.3\n",
      "\u001b[32m✔\u001b[39m \u001b[34mparsnip     \u001b[39m 1.1.1     \u001b[32m✔\u001b[39m \u001b[34mworkflowsets\u001b[39m 1.0.1\n",
      "\u001b[32m✔\u001b[39m \u001b[34mpurrr       \u001b[39m 1.0.2     \u001b[32m✔\u001b[39m \u001b[34myardstick   \u001b[39m 1.3.0\n",
      "\n",
      "── \u001b[1mConflicts\u001b[22m ───────────────────────────────────────── tidymodels_conflicts() ──\n",
      "\u001b[31m✖\u001b[39m \u001b[34mpurrr\u001b[39m::\u001b[32mdiscard()\u001b[39m masks \u001b[34mscales\u001b[39m::discard()\n",
      "\u001b[31m✖\u001b[39m \u001b[34mdplyr\u001b[39m::\u001b[32mfilter()\u001b[39m  masks \u001b[34mstats\u001b[39m::filter()\n",
      "\u001b[31m✖\u001b[39m \u001b[34mdplyr\u001b[39m::\u001b[32mlag()\u001b[39m     masks \u001b[34mstats\u001b[39m::lag()\n",
      "\u001b[31m✖\u001b[39m \u001b[34mrecipes\u001b[39m::\u001b[32mstep()\u001b[39m  masks \u001b[34mstats\u001b[39m::step()\n",
      "\u001b[34m•\u001b[39m Dig deeper into tidy modeling with R at \u001b[32mhttps://www.tmwr.org\u001b[39m\n",
      "\n",
      "── \u001b[1mAttaching core tidyverse packages\u001b[22m ──────────────────────── tidyverse 2.0.0 ──\n",
      "\u001b[32m✔\u001b[39m \u001b[34mforcats  \u001b[39m 1.0.0     \u001b[32m✔\u001b[39m \u001b[34mreadr    \u001b[39m 2.1.5\n",
      "\u001b[32m✔\u001b[39m \u001b[34mlubridate\u001b[39m 1.9.3     \u001b[32m✔\u001b[39m \u001b[34mstringr  \u001b[39m 1.5.1\n",
      "── \u001b[1mConflicts\u001b[22m ────────────────────────────────────────── tidyverse_conflicts() ──\n",
      "\u001b[31m✖\u001b[39m \u001b[34mreadr\u001b[39m::\u001b[32mcol_factor()\u001b[39m masks \u001b[34mscales\u001b[39m::col_factor()\n",
      "\u001b[31m✖\u001b[39m \u001b[34mpurrr\u001b[39m::\u001b[32mdiscard()\u001b[39m    masks \u001b[34mscales\u001b[39m::discard()\n",
      "\u001b[31m✖\u001b[39m \u001b[34mdplyr\u001b[39m::\u001b[32mfilter()\u001b[39m     masks \u001b[34mstats\u001b[39m::filter()\n",
      "\u001b[31m✖\u001b[39m \u001b[34mstringr\u001b[39m::\u001b[32mfixed()\u001b[39m    masks \u001b[34mrecipes\u001b[39m::fixed()\n",
      "\u001b[31m✖\u001b[39m \u001b[34mdplyr\u001b[39m::\u001b[32mlag()\u001b[39m        masks \u001b[34mstats\u001b[39m::lag()\n",
      "\u001b[31m✖\u001b[39m \u001b[34mreadr\u001b[39m::\u001b[32mspec()\u001b[39m       masks \u001b[34myardstick\u001b[39m::spec()\n",
      "\u001b[36mℹ\u001b[39m Use the conflicted package (\u001b[3m\u001b[34m<http://conflicted.r-lib.org/>\u001b[39m\u001b[23m) to force all conflicts to become errors\n"
     ]
    }
   ],
   "source": [
    "library(tidymodels)\n",
    "library(tidyverse)"
   ]
  },
  {
   "cell_type": "raw",
   "id": "3346236a-68f8-403b-ba68-f89ecfd3b9d9",
   "metadata": {
    "tags": []
   },
   "source": [
    "The data is located in your homework directory in the `diabetes.csv` file. \n",
    "Read in the data by running the following cell. \n",
    "We are \"splitting\" the data into training and testing sets. \n",
    "We will evaluate our model's performance with the test set."
   ]
  },
  {
   "cell_type": "code",
   "execution_count": 2,
   "id": "e68fb274-ddbe-4ae0-a927-2c4d57d3b31a",
   "metadata": {
    "tags": []
   },
   "outputs": [
    {
     "name": "stderr",
     "output_type": "stream",
     "text": [
      "\u001b[1mRows: \u001b[22m\u001b[34m768\u001b[39m \u001b[1mColumns: \u001b[22m\u001b[34m9\u001b[39m\n",
      "\u001b[36m──\u001b[39m \u001b[1mColumn specification\u001b[22m \u001b[36m────────────────────────────────────────────────────────\u001b[39m\n",
      "\u001b[1mDelimiter:\u001b[22m \",\"\n",
      "\u001b[32mdbl\u001b[39m (9): Pregnancies, Glucose, BloodPressure, SkinThickness, Insulin, BMI, D...\n",
      "\n",
      "\u001b[36mℹ\u001b[39m Use `spec()` to retrieve the full column specification for this data.\n",
      "\u001b[36mℹ\u001b[39m Specify the column types or set `show_col_types = FALSE` to quiet this message.\n"
     ]
    }
   ],
   "source": [
    "diabetes = readr::read_csv('diabetes.csv') |> mutate(Outcome = factor(Outcome))\n",
    "split = initial_split(diabetes, strata = Outcome)\n",
    "diabetes_train = training(split)\n",
    "diabetes_test = testing(split)"
   ]
  },
  {
   "cell_type": "markdown",
   "id": "6cdaabbd-ba34-4e8d-b81a-1e9ad239ba3f",
   "metadata": {},
   "source": [
    "Glimpse the `diabetes_train` table."
   ]
  },
  {
   "cell_type": "code",
   "execution_count": 3,
   "id": "31877cc1-ae94-4002-9c95-30244b8df393",
   "metadata": {
    "tags": []
   },
   "outputs": [
    {
     "name": "stdout",
     "output_type": "stream",
     "text": [
      "Rows: 576\n",
      "Columns: 9\n",
      "$ Pregnancies              \u001b[3m\u001b[90m<dbl>\u001b[39m\u001b[23m 1, 1, 5, 10, 4, 10, 3, 8, 1, 13, 5, 10, 4, 7,…\n",
      "$ Glucose                  \u001b[3m\u001b[90m<dbl>\u001b[39m\u001b[23m 85, 89, 116, 115, 110, 139, 126, 99, 97, 145,…\n",
      "$ BloodPressure            \u001b[3m\u001b[90m<dbl>\u001b[39m\u001b[23m 66, 66, 74, 0, 92, 80, 88, 84, 66, 82, 75, 78…\n",
      "$ SkinThickness            \u001b[3m\u001b[90m<dbl>\u001b[39m\u001b[23m 29, 23, 0, 0, 0, 0, 41, 0, 15, 19, 26, 31, 33…\n",
      "$ Insulin                  \u001b[3m\u001b[90m<dbl>\u001b[39m\u001b[23m 0, 94, 0, 0, 0, 0, 235, 0, 140, 110, 0, 0, 19…\n",
      "$ BMI                      \u001b[3m\u001b[90m<dbl>\u001b[39m\u001b[23m 26.6, 28.1, 25.6, 35.3, 37.6, 27.1, 39.3, 35.…\n",
      "$ DiabetesPedigreeFunction \u001b[3m\u001b[90m<dbl>\u001b[39m\u001b[23m 0.351, 0.167, 0.201, 0.134, 0.191, 1.441, 0.7…\n",
      "$ Age                      \u001b[3m\u001b[90m<dbl>\u001b[39m\u001b[23m 31, 21, 30, 29, 30, 57, 27, 50, 22, 57, 60, 4…\n",
      "$ Outcome                  \u001b[3m\u001b[90m<fct>\u001b[39m\u001b[23m 0, 0, 0, 0, 0, 0, 0, 0, 0, 0, 0, 0, 0, 0, 0, …\n"
     ]
    }
   ],
   "source": [
    "glimpse(diabetes_train)\n",
    "#tail(diabetes_train)"
   ]
  },
  {
   "cell_type": "markdown",
   "id": "e08206a6-c123-4ef2-9b3d-5239ec8d1d7f",
   "metadata": {},
   "source": [
    "❓ Which variable is suitable as the \"outcome\" in a linear regression model?\n",
    "\n",
    "**Answer:The variable-outcome is suitable as the \"outcome\" because the values are \"1\" or \"0\".**"
   ]
  },
  {
   "cell_type": "markdown",
   "id": "9b4576fc-abd6-4b1d-98f4-d74111af5f06",
   "metadata": {},
   "source": [
    "❓ Navigate to [Kaggle page]() for this dataset. Find descriptions for the `Glucose` and `BMI` columns. Add these descriptions to the [Markdown table](https://www.markdownguide.org/extended-syntax/#tables) below."
   ]
  },
  {
   "cell_type": "markdown",
   "id": "d13d53f4-deb2-493b-a412-7c86eb1f16e5",
   "metadata": {},
   "source": [
    "| Column name | Description |\n",
    "| :---------- | :---------- |\n",
    "| Glucose     |   Plasma glucose concentration a 2 hours in an oral glucose tolerance test.|\n",
    "| BMI         |   Body mass index (weight in kg/(height in m)^2).|"
   ]
  },
  {
   "cell_type": "markdown",
   "id": "d30d0a85-83d5-487d-abe3-ebc4a001357c",
   "metadata": {},
   "source": [
    "Make a bar chart showing the frequency of each \"outcome\" in the `Outcome` column from your `diabetes_train` data."
   ]
  },
  {
   "cell_type": "code",
   "execution_count": 4,
   "id": "1999cef4-dd5f-40aa-9ec3-af1930c35abf",
   "metadata": {
    "tags": []
   },
   "outputs": [
    {
     "name": "stdout",
     "output_type": "stream",
     "text": [
      "Outcome\n",
      "  0   1 \n",
      "375 201 \n"
     ]
    }
   ],
   "source": [
    "Outcome = diabetes_train |> select(Outcome)\n",
    "frequency_table <- table(Outcome)\n",
    "print(frequency_table)"
   ]
  },
  {
   "cell_type": "code",
   "execution_count": 5,
   "id": "579fb58c-0b0d-4fff-9b0e-826d38247a29",
   "metadata": {},
   "outputs": [
    {
     "name": "stderr",
     "output_type": "stream",
     "text": [
      "Warning message in geom_bar(mapping = aes(x = Outcome, fill = Outcome, position = \"identity\")):\n",
      "“\u001b[1m\u001b[22mIgnoring unknown aesthetics: \u001b[32mposition\u001b[39m”\n"
     ]
    },
    {
     "data": {
      "image/png": "[encoded data removed]",
      "text/plain": [
       "plot without title"
      ]
     },
     "metadata": {
      "image/png": {
       "height": 250,
       "width": 375
      }
     },
     "output_type": "display_data"
    }
   ],
   "source": [
    "options(repr.plot.width = 3 , repr.plot.height = 2)\n",
    "ggplot(diabetes_train) + \n",
    "  geom_bar(mapping = aes(x = Outcome, fill = Outcome, position = \"identity\")) +\n",
    "  labs(x = \"Outcome\", y = \"Frequency\")"
   ]
  },
  {
   "cell_type": "markdown",
   "id": "5a280364-49ed-4e4e-95d6-661ef122539b",
   "metadata": {},
   "source": [
    "❓ Is the data balanced? I.e. do we have equal counts of each outcome?\n",
    "\n",
    "**Answer:  No, we have more \"Outcomes\" with zero.**"
   ]
  },
  {
   "cell_type": "markdown",
   "id": "9c76a65c-4660-40a0-9a98-627dfd5dd8e4",
   "metadata": {},
   "source": [
    "Run the code below to create a table for plotting the predictors we will use in our model: `Glucose` and `BMI`. "
   ]
  },
  {
   "cell_type": "code",
   "execution_count": 6,
   "id": "f65b95e2-0a95-4684-8017-30ae1b8bee5f",
   "metadata": {},
   "outputs": [
    {
     "data": {
      "text/html": [
       "<table class=\"dataframe\">\n",
       "<caption>A tibble: 6 × 3</caption>\n",
       "<thead>\n",
       "\t<tr><th scope=col>Outcome</th><th scope=col>name</th><th scope=col>value</th></tr>\n",
       "\t<tr><th scope=col>&lt;fct&gt;</th><th scope=col>&lt;chr&gt;</th><th scope=col>&lt;dbl&gt;</th></tr>\n",
       "</thead>\n",
       "<tbody>\n",
       "\t<tr><td>0</td><td>Glucose</td><td> 85.0</td></tr>\n",
       "\t<tr><td>0</td><td>BMI    </td><td> 26.6</td></tr>\n",
       "\t<tr><td>0</td><td>Glucose</td><td> 89.0</td></tr>\n",
       "\t<tr><td>0</td><td>BMI    </td><td> 28.1</td></tr>\n",
       "\t<tr><td>0</td><td>Glucose</td><td>116.0</td></tr>\n",
       "\t<tr><td>0</td><td>BMI    </td><td> 25.6</td></tr>\n",
       "</tbody>\n",
       "</table>\n"
      ],
      "text/latex": [
       "A tibble: 6 × 3\n",
       "\\begin{tabular}{lll}\n",
       " Outcome & name & value\\\\\n",
       " <fct> & <chr> & <dbl>\\\\\n",
       "\\hline\n",
       "\t 0 & Glucose &  85.0\\\\\n",
       "\t 0 & BMI     &  26.6\\\\\n",
       "\t 0 & Glucose &  89.0\\\\\n",
       "\t 0 & BMI     &  28.1\\\\\n",
       "\t 0 & Glucose & 116.0\\\\\n",
       "\t 0 & BMI     &  25.6\\\\\n",
       "\\end{tabular}\n"
      ],
      "text/markdown": [
       "\n",
       "A tibble: 6 × 3\n",
       "\n",
       "| Outcome &lt;fct&gt; | name &lt;chr&gt; | value &lt;dbl&gt; |\n",
       "|---|---|---|\n",
       "| 0 | Glucose |  85.0 |\n",
       "| 0 | BMI     |  26.6 |\n",
       "| 0 | Glucose |  89.0 |\n",
       "| 0 | BMI     |  28.1 |\n",
       "| 0 | Glucose | 116.0 |\n",
       "| 0 | BMI     |  25.6 |\n",
       "\n"
      ],
      "text/plain": [
       "  Outcome name    value\n",
       "1 0       Glucose  85.0\n",
       "2 0       BMI      26.6\n",
       "3 0       Glucose  89.0\n",
       "4 0       BMI      28.1\n",
       "5 0       Glucose 116.0\n",
       "6 0       BMI      25.6"
      ]
     },
     "metadata": {},
     "output_type": "display_data"
    }
   ],
   "source": [
    "plot_df = diabetes_train |>\n",
    "    select(Outcome, Glucose, BMI) |>\n",
    "    pivot_longer(cols = c(Glucose, BMI))\n",
    "plot_df |> head()"
   ]
  },
  {
   "cell_type": "markdown",
   "id": "198fd1ff-789a-4af9-ac4d-d3022e50ea32",
   "metadata": {},
   "source": [
    "Using `plot_df`, make a chart showing the relationship of `Glucose` and `BMI` with `Outcome`. \n",
    "\n",
    "- use `geom_jitter` for your \"geom\"\n",
    "- `facet_wrap` your chart by the `name` variable. (e.g. `facet_wrap(~name, ncol = 2, scales = 'free_x')`)"
   ]
  },
  {
   "cell_type": "code",
   "execution_count": 7,
   "id": "b96f29ce-fe13-4c70-83b1-3cec1083d6cd",
   "metadata": {
    "tags": []
   },
   "outputs": [
    {
     "data": {
      "image/png": "[encoded data removed]",
      "text/plain": [
       "plot without title"
      ]
     },
     "metadata": {
      "image/png": {
       "height": 250,
       "width": 375
      }
     },
     "output_type": "display_data"
    }
   ],
   "source": [
    "ggplot(plot_df, aes( x = name, y = Outcome)) +\n",
    "geom_point(size = 0.2, position = position_jitter(width = 0.3, height = 0.2)) +\n",
    "facet_wrap(~name, ncol = 2, scales = 'free_x')"
   ]
  },
  {
   "cell_type": "code",
   "execution_count": 8,
   "id": "7c6e410e-9e1e-4a0e-9290-9555e6a62071",
   "metadata": {
    "tags": []
   },
   "outputs": [
    {
     "data": {
      "image/png": "[encoded data removed]",
      "text/plain": [
       "plot without title"
      ]
     },
     "metadata": {
      "image/png": {
       "height": 250,
       "width": 375
      }
     },
     "output_type": "display_data"
    }
   ],
   "source": [
    "ggplot(plot_df, aes( x = name, y = Outcome)) +\n",
    "geom_point(size = 0.2, position = position_jitter(width = 0.3, height = 0.2)) +\n",
    "facet_wrap(~name, ncol = 2)\n"
   ]
  },
  {
   "cell_type": "markdown",
   "id": "31efc9f6-d163-4984-9c7f-3c00038a0610",
   "metadata": {},
   "source": [
    "❓ What happens when you remove the `scales = 'free_x'` argument from the `facet_wrap` function?\n",
    "\n",
    "**Answer: When \"scales = free_x\" is removed, the BMI and Glucose shows up both panels. There are no plots for Glucose in the first panel and there are no plots for BMI in the second panel - for this dataset, I think it is more intuitive when there is just one variable for each panel on the x-axis.**"
   ]
  },
  {
   "cell_type": "code",
   "execution_count": 9,
   "id": "a0d3a8c6-7e87-408a-9411-1872b1e4adcc",
   "metadata": {
    "tags": []
   },
   "outputs": [
    {
     "data": {
      "text/html": [
       "<table class=\"dataframe\">\n",
       "<caption>A tibble: 3 × 5</caption>\n",
       "<thead>\n",
       "\t<tr><th scope=col>term</th><th scope=col>estimate</th><th scope=col>std.error</th><th scope=col>statistic</th><th scope=col>p.value</th></tr>\n",
       "\t<tr><th scope=col>&lt;chr&gt;</th><th scope=col>&lt;dbl&gt;</th><th scope=col>&lt;dbl&gt;</th><th scope=col>&lt;dbl&gt;</th><th scope=col>&lt;dbl&gt;</th></tr>\n",
       "</thead>\n",
       "<tbody>\n",
       "\t<tr><td>(Intercept)</td><td>-7.52577534</td><td>0.71138808</td><td>-10.579001</td><td>3.729123e-26</td></tr>\n",
       "\t<tr><td>BMI        </td><td> 0.07060645</td><td>0.01573036</td><td>  4.488546</td><td>7.171092e-06</td></tr>\n",
       "\t<tr><td>Glucose    </td><td> 0.03661913</td><td>0.00388897</td><td>  9.416151</td><td>4.679258e-21</td></tr>\n",
       "</tbody>\n",
       "</table>\n"
      ],
      "text/latex": [
       "A tibble: 3 × 5\n",
       "\\begin{tabular}{lllll}\n",
       " term & estimate & std.error & statistic & p.value\\\\\n",
       " <chr> & <dbl> & <dbl> & <dbl> & <dbl>\\\\\n",
       "\\hline\n",
       "\t (Intercept) & -7.52577534 & 0.71138808 & -10.579001 & 3.729123e-26\\\\\n",
       "\t BMI         &  0.07060645 & 0.01573036 &   4.488546 & 7.171092e-06\\\\\n",
       "\t Glucose     &  0.03661913 & 0.00388897 &   9.416151 & 4.679258e-21\\\\\n",
       "\\end{tabular}\n"
      ],
      "text/markdown": [
       "\n",
       "A tibble: 3 × 5\n",
       "\n",
       "| term &lt;chr&gt; | estimate &lt;dbl&gt; | std.error &lt;dbl&gt; | statistic &lt;dbl&gt; | p.value &lt;dbl&gt; |\n",
       "|---|---|---|---|---|\n",
       "| (Intercept) | -7.52577534 | 0.71138808 | -10.579001 | 3.729123e-26 |\n",
       "| BMI         |  0.07060645 | 0.01573036 |   4.488546 | 7.171092e-06 |\n",
       "| Glucose     |  0.03661913 | 0.00388897 |   9.416151 | 4.679258e-21 |\n",
       "\n"
      ],
      "text/plain": [
       "  term        estimate    std.error  statistic  p.value     \n",
       "1 (Intercept) -7.52577534 0.71138808 -10.579001 3.729123e-26\n",
       "2 BMI          0.07060645 0.01573036   4.488546 7.171092e-06\n",
       "3 Glucose      0.03661913 0.00388897   9.416151 4.679258e-21"
      ]
     },
     "metadata": {},
     "output_type": "display_data"
    }
   ],
   "source": [
    "mod = logistic_reg() |> set_engine('glm')\n",
    "mod_fit = mod |> fit(Outcome ~ BMI + Glucose, diabetes_train)\n",
    "tidy(mod_fit)"
   ]
  },
  {
   "cell_type": "markdown",
   "id": "ae20285c-3687-466b-9002-9643279412e6",
   "metadata": {},
   "source": [
    "Using your training data, build logistic regression model of `Outcome` with `BMI` and `Glucose` as predictors. \n",
    "- Use \"glm\" for you engine\n",
    "- The formula for your fit function will be `Outcome ~ BMI + Glucose`"
   ]
  },
  {
   "cell_type": "markdown",
   "id": "e06e0009-e60e-40e9-9b65-053486a4e43f",
   "metadata": {},
   "source": [
    "Using `augment` with your fitted model and the `diabetes_test` data as arguments, create a new dataset called `diabeted_test_wPred` that is the `diabetes_test` table including predictions from your model. "
   ]
  },
  {
   "cell_type": "code",
   "execution_count": 10,
   "id": "36e7fbfa-b71a-4175-bcc1-e565a748c124",
   "metadata": {},
   "outputs": [
    {
     "data": {
      "text/html": [
       "<table class=\"dataframe\">\n",
       "<caption>A tibble: 6 × 12</caption>\n",
       "<thead>\n",
       "\t<tr><th scope=col>.pred_class</th><th scope=col>.pred_0</th><th scope=col>.pred_1</th><th scope=col>Pregnancies</th><th scope=col>Glucose</th><th scope=col>BloodPressure</th><th scope=col>SkinThickness</th><th scope=col>Insulin</th><th scope=col>BMI</th><th scope=col>DiabetesPedigreeFunction</th><th scope=col>Age</th><th scope=col>Outcome</th></tr>\n",
       "\t<tr><th scope=col>&lt;fct&gt;</th><th scope=col>&lt;dbl&gt;</th><th scope=col>&lt;dbl&gt;</th><th scope=col>&lt;dbl&gt;</th><th scope=col>&lt;dbl&gt;</th><th scope=col>&lt;dbl&gt;</th><th scope=col>&lt;dbl&gt;</th><th scope=col>&lt;dbl&gt;</th><th scope=col>&lt;dbl&gt;</th><th scope=col>&lt;dbl&gt;</th><th scope=col>&lt;dbl&gt;</th><th scope=col>&lt;fct&gt;</th></tr>\n",
       "</thead>\n",
       "<tbody>\n",
       "\t<tr><td>1</td><td>0.36954168</td><td>0.6304583</td><td> 0</td><td>137</td><td>40</td><td>35</td><td>168</td><td>43.1</td><td>2.288</td><td>33</td><td>1</td></tr>\n",
       "\t<tr><td>0</td><td>0.92277650</td><td>0.0772235</td><td> 3</td><td> 78</td><td>50</td><td>32</td><td> 88</td><td>31.0</td><td>0.248</td><td>26</td><td>1</td></tr>\n",
       "\t<tr><td>1</td><td>0.21260673</td><td>0.7873933</td><td>10</td><td>168</td><td>74</td><td> 0</td><td>  0</td><td>38.0</td><td>0.537</td><td>34</td><td>1</td></tr>\n",
       "\t<tr><td>0</td><td>0.66746585</td><td>0.3325341</td><td> 1</td><td>103</td><td>30</td><td>38</td><td> 83</td><td>43.3</td><td>0.183</td><td>33</td><td>0</td></tr>\n",
       "\t<tr><td>0</td><td>0.70507689</td><td>0.2949231</td><td> 1</td><td>115</td><td>70</td><td>30</td><td> 96</td><td>34.6</td><td>0.529</td><td>32</td><td>1</td></tr>\n",
       "\t<tr><td>1</td><td>0.07858635</td><td>0.9214136</td><td> 7</td><td>196</td><td>90</td><td> 0</td><td>  0</td><td>39.8</td><td>0.451</td><td>41</td><td>1</td></tr>\n",
       "</tbody>\n",
       "</table>\n"
      ],
      "text/latex": [
       "A tibble: 6 × 12\n",
       "\\begin{tabular}{llllllllllll}\n",
       " .pred\\_class & .pred\\_0 & .pred\\_1 & Pregnancies & Glucose & BloodPressure & SkinThickness & Insulin & BMI & DiabetesPedigreeFunction & Age & Outcome\\\\\n",
       " <fct> & <dbl> & <dbl> & <dbl> & <dbl> & <dbl> & <dbl> & <dbl> & <dbl> & <dbl> & <dbl> & <fct>\\\\\n",
       "\\hline\n",
       "\t 1 & 0.36954168 & 0.6304583 &  0 & 137 & 40 & 35 & 168 & 43.1 & 2.288 & 33 & 1\\\\\n",
       "\t 0 & 0.92277650 & 0.0772235 &  3 &  78 & 50 & 32 &  88 & 31.0 & 0.248 & 26 & 1\\\\\n",
       "\t 1 & 0.21260673 & 0.7873933 & 10 & 168 & 74 &  0 &   0 & 38.0 & 0.537 & 34 & 1\\\\\n",
       "\t 0 & 0.66746585 & 0.3325341 &  1 & 103 & 30 & 38 &  83 & 43.3 & 0.183 & 33 & 0\\\\\n",
       "\t 0 & 0.70507689 & 0.2949231 &  1 & 115 & 70 & 30 &  96 & 34.6 & 0.529 & 32 & 1\\\\\n",
       "\t 1 & 0.07858635 & 0.9214136 &  7 & 196 & 90 &  0 &   0 & 39.8 & 0.451 & 41 & 1\\\\\n",
       "\\end{tabular}\n"
      ],
      "text/markdown": [
       "\n",
       "A tibble: 6 × 12\n",
       "\n",
       "| .pred_class &lt;fct&gt; | .pred_0 &lt;dbl&gt; | .pred_1 &lt;dbl&gt; | Pregnancies &lt;dbl&gt; | Glucose &lt;dbl&gt; | BloodPressure &lt;dbl&gt; | SkinThickness &lt;dbl&gt; | Insulin &lt;dbl&gt; | BMI &lt;dbl&gt; | DiabetesPedigreeFunction &lt;dbl&gt; | Age &lt;dbl&gt; | Outcome &lt;fct&gt; |\n",
       "|---|---|---|---|---|---|---|---|---|---|---|---|\n",
       "| 1 | 0.36954168 | 0.6304583 |  0 | 137 | 40 | 35 | 168 | 43.1 | 2.288 | 33 | 1 |\n",
       "| 0 | 0.92277650 | 0.0772235 |  3 |  78 | 50 | 32 |  88 | 31.0 | 0.248 | 26 | 1 |\n",
       "| 1 | 0.21260673 | 0.7873933 | 10 | 168 | 74 |  0 |   0 | 38.0 | 0.537 | 34 | 1 |\n",
       "| 0 | 0.66746585 | 0.3325341 |  1 | 103 | 30 | 38 |  83 | 43.3 | 0.183 | 33 | 0 |\n",
       "| 0 | 0.70507689 | 0.2949231 |  1 | 115 | 70 | 30 |  96 | 34.6 | 0.529 | 32 | 1 |\n",
       "| 1 | 0.07858635 | 0.9214136 |  7 | 196 | 90 |  0 |   0 | 39.8 | 0.451 | 41 | 1 |\n",
       "\n"
      ],
      "text/plain": [
       "  .pred_class .pred_0    .pred_1   Pregnancies Glucose BloodPressure\n",
       "1 1           0.36954168 0.6304583  0          137     40           \n",
       "2 0           0.92277650 0.0772235  3           78     50           \n",
       "3 1           0.21260673 0.7873933 10          168     74           \n",
       "4 0           0.66746585 0.3325341  1          103     30           \n",
       "5 0           0.70507689 0.2949231  1          115     70           \n",
       "6 1           0.07858635 0.9214136  7          196     90           \n",
       "  SkinThickness Insulin BMI  DiabetesPedigreeFunction Age Outcome\n",
       "1 35            168     43.1 2.288                    33  1      \n",
       "2 32             88     31.0 0.248                    26  1      \n",
       "3  0              0     38.0 0.537                    34  1      \n",
       "4 38             83     43.3 0.183                    33  0      \n",
       "5 30             96     34.6 0.529                    32  1      \n",
       "6  0              0     39.8 0.451                    41  1      "
      ]
     },
     "metadata": {},
     "output_type": "display_data"
    }
   ],
   "source": [
    "diabetes_test_wPred = augment(mod_fit, diabetes_test)\n",
    "\n",
    "diabetes_test_wPred |> head()"
   ]
  },
  {
   "cell_type": "markdown",
   "id": "c366f957-abb0-4094-94e0-ad636dd70bfa",
   "metadata": {},
   "source": [
    "Run the code below to generate a confusion matrix for your model predictions. \n",
    "\n",
    "(❗️Hint: See Table 4.4 from [*Introduction to Statistical Learning (Version 2)*](https://www.statlearning.com/) for an example confusion matrix.)"
   ]
  },
  {
   "cell_type": "code",
   "execution_count": 11,
   "id": "fb3bfae0-9d17-48a0-bde7-4891f91a07aa",
   "metadata": {},
   "outputs": [
    {
     "data": {
      "text/plain": [
       "          Truth\n",
       "Prediction   0   1\n",
       "         0 114  30\n",
       "         1  11  37"
      ]
     },
     "metadata": {},
     "output_type": "display_data"
    }
   ],
   "source": [
    "diabetes_test_wPred = augment(mod_fit, new_data = diabetes_test)\n",
    "\n",
    "diabetes_test_wPred |> conf_mat(Outcome, .pred_class)"
   ]
  },
  {
   "cell_type": "markdown",
   "id": "270d26fa-fa4a-4b35-adbe-06ca26e65933",
   "metadata": {},
   "source": [
    "❓ Based on the confusion matrix above, \n",
    "- How many individuals had diabetes in your test data?\n",
    "- Of those that actually had diabetes, how many were predicted to have diabetes by your model?\n",
    "- How many individuals predicted to have diabetes did not have diabetes?\n",
    "\n",
    "**Answer: ~ 67 individuals had diabetes in my test data.\n",
    "          ~ 43 people were predicted by to have diabetes by my model.\n",
    "          ~ 18 people predicted to have diabetes, did not have it.**"
   ]
  }
 ],
 "metadata": {
  "kernelspec": {
   "display_name": "data730:R",
   "language": "R",
   "name": "conda-env-data730-r"
  },
  "language_info": {
   "codemirror_mode": "r",
   "file_extension": ".r",
   "mimetype": "text/x-r-source",
   "name": "R",
   "pygments_lexer": "r",
   "version": "4.3.2"
  }
 },
 "nbformat": 4,
 "nbformat_minor": 5
}
